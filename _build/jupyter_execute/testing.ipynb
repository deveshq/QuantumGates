{
 "cells": [
  {
   "cell_type": "markdown",
   "id": "720f8e87-f343-4585-9261-e5384b13b665",
   "metadata": {
    "jp-MarkdownHeadingCollapsed": true,
    "tags": []
   },
   "source": [
    "## Preliminary Project Report\n",
    "### Making Quantum Gates Using Atomic Systems\n",
    "\n",
    "> Devesh kumar                  \n",
    "    MSc Physics                        \n",
    "    20615010             \n",
    "    \n",
    "> Supervisor:       \n",
    "    Prof. Ajay Wasan                    \n",
    "    Department of Physics                 \n",
    "\n",
    "#### Indian Institute Of Technology Roorkee\n",
    "###### Roorkee-247667, Uttarakhand, India\n",
    "\n",
    "\n",
    "\n",
    "\n",
    "\n",
    ":::{Note}\n",
    "This book is currently in development phase!\n",
    ":::\n",
    "\n"
   ]
  },
  {
   "cell_type": "markdown",
   "id": "3a2ec7ad-b96e-4e6b-b10f-59edec237a8b",
   "metadata": {},
   "source": [
    "Supervisor:           \n",
    ">    Prof. Ajay Wasan                    \n",
    "     Department of Physics             \n",
    "     \n",
    "     \n"
   ]
  }
 ],
 "metadata": {
  "kernelspec": {
   "display_name": "Python 3 (ipykernel)",
   "language": "python",
   "name": "python3"
  },
  "language_info": {
   "codemirror_mode": {
    "name": "ipython",
    "version": 3
   },
   "file_extension": ".py",
   "mimetype": "text/x-python",
   "name": "python",
   "nbconvert_exporter": "python",
   "pygments_lexer": "ipython3",
   "version": "3.9.5"
  }
 },
 "nbformat": 4,
 "nbformat_minor": 5
}